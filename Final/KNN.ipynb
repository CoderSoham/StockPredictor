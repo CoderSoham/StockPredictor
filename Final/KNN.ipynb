{
 "cells": [
  {
   "cell_type": "code",
   "execution_count": 4,
   "id": "3f89c1d7",
   "metadata": {},
   "outputs": [
    {
     "name": "stdout",
     "output_type": "stream",
     "text": [
      "Enter the stock symbol (e.g., GOOG): COALINDIA.NS\n",
      "Enter the prediction time interval in minutes (e.g., 5): 316\n"
     ]
    },
    {
     "name": "stderr",
     "output_type": "stream",
     "text": [
      "[*********************100%%**********************]  1 of 1 completed\n",
      "C:\\Users\\Lenovo\\anaconda3\\Lib\\site-packages\\sklearn\\base.py:464: UserWarning: X does not have valid feature names, but KMeans was fitted with feature names\n",
      "  warnings.warn(\n",
      "C:\\Users\\Lenovo\\AppData\\Local\\Temp\\ipykernel_5320\\3290467835.py:36: SettingWithCopyWarning: \n",
      "A value is trying to be set on a copy of a slice from a DataFrame.\n",
      "Try using .loc[row_indexer,col_indexer] = value instead\n",
      "\n",
      "See the caveats in the documentation: https://pandas.pydata.org/pandas-docs/stable/user_guide/indexing.html#returning-a-view-versus-a-copy\n",
      "  cluster_data['Next_Close'] = cluster_data['Close'].shift(-1)\n",
      "C:\\Users\\Lenovo\\AppData\\Local\\Temp\\ipykernel_5320\\3290467835.py:37: SettingWithCopyWarning: \n",
      "A value is trying to be set on a copy of a slice from a DataFrame\n",
      "\n",
      "See the caveats in the documentation: https://pandas.pydata.org/pandas-docs/stable/user_guide/indexing.html#returning-a-view-versus-a-copy\n",
      "  cluster_data.dropna(inplace=True)\n",
      "C:\\Users\\Lenovo\\AppData\\Local\\Temp\\ipykernel_5320\\3290467835.py:38: SettingWithCopyWarning: \n",
      "A value is trying to be set on a copy of a slice from a DataFrame.\n",
      "Try using .loc[row_indexer,col_indexer] = value instead\n",
      "\n",
      "See the caveats in the documentation: https://pandas.pydata.org/pandas-docs/stable/user_guide/indexing.html#returning-a-view-versus-a-copy\n",
      "  cluster_data['Price_Change'] = cluster_data['Next_Close'] - cluster_data['Close']\n"
     ]
    },
    {
     "name": "stdout",
     "output_type": "stream",
     "text": [
      "Current Time: 2024-08-08 10:14:00+05:30\n",
      "Current Price for COALINDIA.NS: 527.65\n",
      "Predicted Future Price for COALINDIA.NS at 2024-08-08 15:30:00+05:30: 527.72\n"
     ]
    },
    {
     "name": "stderr",
     "output_type": "stream",
     "text": [
      "[*********************100%%**********************]  1 of 1 completed\n"
     ]
    },
    {
     "name": "stdout",
     "output_type": "stream",
     "text": [
      "Current Time: 2024-08-08 10:14:00+05:30\n",
      "Current Price for COALINDIA.NS: 527.65\n",
      "Predicted Future Price for COALINDIA.NS at 2024-08-08 15:30:00+05:30: 527.58\n"
     ]
    },
    {
     "name": "stderr",
     "output_type": "stream",
     "text": [
      "C:\\Users\\Lenovo\\anaconda3\\Lib\\site-packages\\sklearn\\base.py:464: UserWarning: X does not have valid feature names, but KMeans was fitted with feature names\n",
      "  warnings.warn(\n",
      "C:\\Users\\Lenovo\\AppData\\Local\\Temp\\ipykernel_5320\\3290467835.py:36: SettingWithCopyWarning: \n",
      "A value is trying to be set on a copy of a slice from a DataFrame.\n",
      "Try using .loc[row_indexer,col_indexer] = value instead\n",
      "\n",
      "See the caveats in the documentation: https://pandas.pydata.org/pandas-docs/stable/user_guide/indexing.html#returning-a-view-versus-a-copy\n",
      "  cluster_data['Next_Close'] = cluster_data['Close'].shift(-1)\n",
      "C:\\Users\\Lenovo\\AppData\\Local\\Temp\\ipykernel_5320\\3290467835.py:37: SettingWithCopyWarning: \n",
      "A value is trying to be set on a copy of a slice from a DataFrame\n",
      "\n",
      "See the caveats in the documentation: https://pandas.pydata.org/pandas-docs/stable/user_guide/indexing.html#returning-a-view-versus-a-copy\n",
      "  cluster_data.dropna(inplace=True)\n",
      "C:\\Users\\Lenovo\\AppData\\Local\\Temp\\ipykernel_5320\\3290467835.py:38: SettingWithCopyWarning: \n",
      "A value is trying to be set on a copy of a slice from a DataFrame.\n",
      "Try using .loc[row_indexer,col_indexer] = value instead\n",
      "\n",
      "See the caveats in the documentation: https://pandas.pydata.org/pandas-docs/stable/user_guide/indexing.html#returning-a-view-versus-a-copy\n",
      "  cluster_data['Price_Change'] = cluster_data['Next_Close'] - cluster_data['Close']\n"
     ]
    }
   ],
   "source": [
    "import pandas as pd\n",
    "from sklearn.cluster import KMeans\n",
    "import yfinance as yf\n",
    "from datetime import datetime, timedelta\n",
    "\n",
    "def fetch_data(symbol):\n",
    "    # Fetch historical data for the stock\n",
    "    stock_data = yf.download(symbol, period=\"max\")\n",
    "    return stock_data\n",
    "\n",
    "def cluster_data(stock_data, n_clusters):\n",
    "    # Select features for clustering\n",
    "    X = stock_data[['Open', 'High', 'Low', 'Close', 'Volume']]\n",
    "\n",
    "    # Apply K-Means clustering\n",
    "    kmeans = KMeans(n_clusters=n_clusters, random_state=0, n_init=10)\n",
    "    stock_data['Cluster'] = kmeans.fit_predict(X)\n",
    "\n",
    "    return stock_data, kmeans\n",
    "\n",
    "def predict_cluster(kmeans, last_data_point):\n",
    "    # Predict the cluster of the last data point\n",
    "    future_data = [[\n",
    "        last_data_point['Open'].iloc[-1], \n",
    "        last_data_point['High'].iloc[-1], \n",
    "        last_data_point['Low'].iloc[-1], \n",
    "        last_data_point['Close'].iloc[-1], \n",
    "        last_data_point['Volume'].iloc[-1]\n",
    "    ]]\n",
    "    predicted_cluster = kmeans.predict(future_data)[0]\n",
    "    return predicted_cluster\n",
    "\n",
    "def estimate_future_price(stock_data, predicted_cluster):\n",
    "    # Calculate the average future price change for the cluster\n",
    "    cluster_data = stock_data[stock_data['Cluster'] == predicted_cluster]\n",
    "    cluster_data['Next_Close'] = cluster_data['Close'].shift(-1)\n",
    "    cluster_data.dropna(inplace=True)\n",
    "    cluster_data['Price_Change'] = cluster_data['Next_Close'] - cluster_data['Close']\n",
    "    average_price_change = cluster_data['Price_Change'].mean()\n",
    "\n",
    "    return average_price_change\n",
    "\n",
    "def main():\n",
    "    # Ask user for stock symbol\n",
    "    symbol = input(\"Enter the stock symbol (e.g., GOOG): \").upper()\n",
    "    prediction_minutes = int(input(\"Enter the prediction time interval in minutes (e.g., 5): \"))\n",
    "    a=[3,10]\n",
    "    for x in a:\n",
    "         # Ask user for the number of clusters\n",
    "        n_clusters = x\n",
    "\n",
    "        # Ask user for the prediction time interval in minutes\n",
    "        \n",
    "        prediction_delta = timedelta(minutes=prediction_minutes)\n",
    "\n",
    "        # Fetch historical data for the chosen stock\n",
    "        stock_data = fetch_data(symbol)\n",
    "\n",
    "        # Check if data is available for the entered symbol\n",
    "        if stock_data.empty:\n",
    "            print(\"Error: Data not available for the entered stock symbol.\")\n",
    "            return\n",
    "\n",
    "        # Cluster the data\n",
    "        stock_data, kmeans = cluster_data(stock_data, n_clusters)\n",
    "\n",
    "        # Fetch real-time data for the chosen stock\n",
    "        stock = yf.Ticker(symbol)\n",
    "        try:\n",
    "            realtime_data = stock.history(period='5d', interval='1m')  # Use 5-minute intervals\n",
    "        except Exception as e:\n",
    "            print(f\"Error fetching real-time data: {e}\")\n",
    "            return\n",
    "\n",
    "        # Check if real-time data is available\n",
    "        if realtime_data.empty:\n",
    "            print(\"Error: Real-time data not available.\")\n",
    "            return\n",
    "\n",
    "        # Get the latest data point\n",
    "        last_data_point = realtime_data.tail(1)\n",
    "\n",
    "        # Predict the cluster of the latest data point\n",
    "        predicted_cluster = predict_cluster(kmeans, last_data_point)\n",
    "\n",
    "        # Estimate future price change\n",
    "        average_price_change = estimate_future_price(stock_data, predicted_cluster)\n",
    "\n",
    "        # Get the current time and price\n",
    "        current_time = last_data_point.index[-1]\n",
    "        current_price = last_data_point['Close'].iloc[-1]\n",
    "\n",
    "        # Calculate the predicted future price and future time\n",
    "        future_price = current_price + average_price_change\n",
    "        future_time = current_time + prediction_delta\n",
    "\n",
    "        # Print the current and predicted future price\n",
    "        print(f\"Current Time: {current_time}\")\n",
    "        print(f\"Current Price for {symbol}: {current_price:.2f}\")\n",
    "        print(f\"Predicted Future Price for {symbol} at {future_time}: {future_price:.2f}\")\n",
    "\n",
    "if __name__ == \"__main__\":\n",
    "    main()\n"
   ]
  },
  {
   "cell_type": "markdown",
   "id": "5115a4ca",
   "metadata": {},
   "source": [
    "##### "
   ]
  }
 ],
 "metadata": {
  "kernelspec": {
   "display_name": "Python 3 (ipykernel)",
   "language": "python",
   "name": "python3"
  },
  "language_info": {
   "codemirror_mode": {
    "name": "ipython",
    "version": 3
   },
   "file_extension": ".py",
   "mimetype": "text/x-python",
   "name": "python",
   "nbconvert_exporter": "python",
   "pygments_lexer": "ipython3",
   "version": "3.11.5"
  }
 },
 "nbformat": 4,
 "nbformat_minor": 5
}
